{
 "cells": [
  {
   "cell_type": "code",
   "execution_count": null,
   "id": "3207fd28",
   "metadata": {},
   "outputs": [],
   "source": [
    "import pandas as pd\n",
    "import numpy as np\n",
    "from sklearn.metrics.pairwise import cosine_similarity\n",
    "from sklearn.preprocessing import StandardScaler"
   ]
  },
  {
   "cell_type": "code",
   "execution_count": null,
   "id": "190aded5",
   "metadata": {},
   "outputs": [],
   "source": [
    "df = pd.read_csv('dataset.csv')\n",
    "#df.head()"
   ]
  },
  {
   "cell_type": "code",
   "execution_count": null,
   "id": "e94edb45",
   "metadata": {},
   "outputs": [],
   "source": [
    "# Reduce subset_percentage if data processing takes too long or kernel dies\n",
    "subset_percentage = 1\n",
    "dfs = df.sample(frac=subset_percentage, random_state=42)\n",
    "\n",
    "# Drop unnecessary columns for recommendation\n",
    "columns_to_drop = ['track_id', 'album_name', 'duration_ms', 'explicit', 'key', 'mode', 'time_signature', ]\n",
    "dfs = dfs.drop(columns=columns_to_drop)\n",
    "dfs = dfs.loc[:, ~dfs.columns.str.match('^Unnamed')]\n",
    "dfs = dfs.drop_duplicates(subset=['track_name', 'artists'], keep='first')\n",
    "\n",
    "# Drop rows with NaN values in 'track_name'\n",
    "dfs = dfs.dropna(subset=['track_name'])\n",
    "\n",
    "# Filter out rows with non-Latin characters in 'track_name'\n",
    "dfs = dfs[dfs['track_name'].apply(lambda x: all(ord(char) < 128 for char in str(x)))]\n",
    "dfs = dfs[(dfs['popularity'] >= 10)]\n",
    "features = dfs.drop(['track_name', 'artists', 'track_genre'], axis=1)\n",
    "\n",
    "scaler = StandardScaler()\n",
    "features_scaled = scaler.fit_transform(features)\n",
    "\n",
    "cosine_sim = cosine_similarity(features_scaled)"
   ]
  },
  {
   "cell_type": "code",
   "execution_count": null,
   "id": "364f358b",
   "metadata": {},
   "outputs": [],
   "source": [
    "# Function to get top N similar songs\n",
    "def get_similar_songs(song_index, similarity_matrix, n=5):\n",
    "    sim_scores = list(enumerate(similarity_matrix[song_index]))\n",
    "    sim_scores = sorted(sim_scores, key=lambda x: x[1], reverse=True)\n",
    "    sim_scores = sim_scores[1:n+1]  # Exclude the input song itself\n",
    "    similar_songs_indices = [x[0] for x in sim_scores]\n",
    "    return similar_songs_indices"
   ]
  },
  {
   "cell_type": "code",
   "execution_count": null,
   "id": "d6e05e5b",
   "metadata": {},
   "outputs": [],
   "source": [
    "# Function to recommend songs based on input song name\n",
    "def recommend_songs(input_song_name, df, similarity_matrix, artist, n=5):    \n",
    "    input_song_index = int(df[(df['track_name'].str.contains(input_song_name, case=False)) & (df['artists'].str.contains(artist, case=False))].index[0])\n",
    "    similar_songs_indices = get_similar_songs(input_song_index, similarity_matrix, n)\n",
    "    output = dfs.iloc[similar_songs_indices][['track_name', 'artists']].to_string(index=False)\n",
    "    return output"
   ]
  },
  {
   "cell_type": "code",
   "execution_count": null,
   "id": "617afab1",
   "metadata": {},
   "outputs": [],
   "source": [
    "# Function to return full artist list for output\n",
    "def artist_search(a):\n",
    "    input_song_index = int(df[(df['track_name'].str.contains(input_song_name, case=False)) & (df['artists'].str.contains(artist, case=False))].index[0])\n",
    "    output = df['track_name'][input_song_index]\n",
    "    output += \" by \"\n",
    "    output += df['artists'][input_song_index]\n",
    "    output+=\": \"\n",
    "    return output"
   ]
  },
  {
   "cell_type": "code",
   "execution_count": null,
   "id": "dcb4d94a",
   "metadata": {},
   "outputs": [],
   "source": [
    "# Example usage\n",
    "input_song_name = \"Anybody\"\n",
    "artist=\"Burna Boy\"\n",
    "# artist_index = df[df['track_name'] == input_song_name].index[0]\n",
    "# artist = df.iloc[artist_index]['artists']\n",
    "recommendations = recommend_songs(input_song_name, df, cosine_sim, artist)\n",
    "artist_return = artist_search(artist)\n",
    "print(f\"Top 5 songs similar to {artist_return}\")\n",
    "print(\"\\n\\n\")\n",
    "print(recommendations)"
   ]
  }
 ],
 "metadata": {
  "kernelspec": {
   "display_name": "Python 3 (ipykernel)",
   "language": "python",
   "name": "python3"
  },
  "language_info": {
   "codemirror_mode": {
    "name": "ipython",
    "version": 3
   },
   "file_extension": ".py",
   "mimetype": "text/x-python",
   "name": "python",
   "nbconvert_exporter": "python",
   "pygments_lexer": "ipython3",
   "version": "3.9.13"
  }
 },
 "nbformat": 4,
 "nbformat_minor": 5
}
